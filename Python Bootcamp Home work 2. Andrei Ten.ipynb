{
 "cells": [
  {
   "cell_type": "markdown",
   "metadata": {},
   "source": [
    "1. Write a Python program that uses three variables. The variables in your program will be animal, vegetable, and mineral. Assign a string value to each one of the variables. Your program should display \"Here is an animal, a vegetable, and a mineral.\" Next, display the value for animal, followed by vegetable, and finally mineral. Each one of the values should be printed on their own line. Your program will display four lines in total."
   ]
  },
  {
   "cell_type": "code",
   "execution_count": 1,
   "metadata": {},
   "outputs": [
    {
     "name": "stdout",
     "output_type": "stream",
     "text": [
      "Here is an animal, a vegetable, and a mineral\"\n",
      "\n",
      "animal\n",
      "vegetable\n",
      "mineral\n"
     ]
    }
   ],
   "source": [
    "animal = 'animal'\n",
    "vegetable = 'vegetable'\n",
    "mineral = 'mineral'\n",
    "\n",
    "print('Here is an {}, a {}, and a {}\"'.format(animal, vegetable, mineral))\n",
    "print()\n",
    "print(animal)\n",
    "print(vegetable)\n",
    "print(mineral)"
   ]
  },
  {
   "cell_type": "markdown",
   "metadata": {},
   "source": [
    "2. Write a Python program that prompts the user for input and simply repeats what the userentered."
   ]
  },
  {
   "cell_type": "code",
   "execution_count": 2,
   "metadata": {
    "scrolled": true
   },
   "outputs": [
    {
     "name": "stdout",
     "output_type": "stream",
     "text": [
      "ad\n",
      "ad\n"
     ]
    }
   ],
   "source": [
    "x= input()\n",
    "print(x)"
   ]
  },
  {
   "cell_type": "markdown",
   "metadata": {},
   "source": [
    "3. Write a Python program that prompts for input and displays a cat \"saying\" what was provided bythe user. Place the input provided by the user inside a speech bubble. Make the speech bubble\n",
    "expand or contract to fit around the input provided by the user.\n",
    "                   _______________________\n",
    "         < Pet me and I will purr. >\n",
    "        /\n",
    " /\\_/\\ /\n",
    "( o.o )\n",
    " > ^ <"
   ]
  },
  {
   "cell_type": "code",
   "execution_count": 3,
   "metadata": {
    "scrolled": true
   },
   "outputs": [
    {
     "name": "stdout",
     "output_type": "stream",
     "text": [
      "Pet me and I will purr\n",
      "< Pet me and I will purr >\n",
      "        /\n",
      " /\\_/\\ /\n",
      "( o.o )\n",
      " > ^ <\n"
     ]
    }
   ],
   "source": [
    "x1 = input()\n",
    "print('< {} >'.format(x1))\n",
    "print('        /')\n",
    "print(' /\\_/\\ /')\n",
    "print('( o.o )')\n",
    "print(' > ^ <')"
   ]
  },
  {
   "cell_type": "markdown",
   "metadata": {},
   "source": [
    "4. Let's assume you are planning to use your Python skills to build a social networking service.You decide to host your application on servers running in the cloud. You pick a hosting provider\n",
    "that charges $0.51 per hour. You will launch your service using one server and want to know\n",
    "how much it will cost to operate per day and per month.\n",
    "Write a Python program that displays the answers to the following questions:\n",
    "How much does it cost to operate one server per day?\n",
    "How much does it cost to operate one server per month?\n"
   ]
  },
  {
   "cell_type": "code",
   "execution_count": 12,
   "metadata": {},
   "outputs": [
    {
     "name": "stdout",
     "output_type": "stream",
     "text": [
      "Price per day = 12.24 $\n",
      "Price per month = 367.2 $\n"
     ]
    }
   ],
   "source": [
    "# How much does it cost to operate one server per day? \n",
    "charge = 0.51\n",
    "hours_in_day = 24\n",
    "price_per_day = hours_in_day * charge\n",
    "print('Price per day = {} $'.format(price_per_day))\n",
    "#How much does it cost to operate one server per month?\n",
    "days_in_month = 30\n",
    "price_per_month = price_per_day * days_in_month\n",
    "print('Price per month = {} $'.format(price_per_month))"
   ]
  },
  {
   "cell_type": "markdown",
   "metadata": {},
   "source": [
    "5. Building on the previous example, let's also assume that you have saved 918 dollars to fund your newadventure. You wonder how many days you can keep one server running before your money\n",
    "runs out. Of course, you hope your social network becomes popular and requires 20 servers to\n",
    "keep up with the demand. How much will it cost to operate at that point?\n",
    "Write a Python program that displays the answers to the following questions:\n",
    "How much does it cost to operate one server per day?\n",
    "How much does it cost to operate one server per month?\n",
    "How much does it cost to operate twenty servers per day?\n",
    "How much does it cost to operate twenty servers per month?\n",
    "How many days can I operate one server with $918?\n"
   ]
  },
  {
   "cell_type": "code",
   "execution_count": 20,
   "metadata": {},
   "outputs": [
    {
     "name": "stdout",
     "output_type": "stream",
     "text": [
      "Price per day for 20 servers =244.8 $\n",
      "Price per month for 20 servers =7344.0 $\n",
      "You can operate 75.0 days\n"
     ]
    }
   ],
   "source": [
    "#How much does it cost to operate twenty servers per day?\n",
    "number_of_servers = 20\n",
    "price_per_day_for_20_servers = price_per_day * number_of_servers\n",
    "print('Price per day for 20 servers ={} $'.format(price_per_day_for_20_servers))\n",
    "\n",
    "# How much does it cost to operate twenty servers per month?\n",
    "price_per_month_for_20_servers = price_per_day_for_20_servers * days_in_month\n",
    "print('Price per month for 20 servers ={} $'.format(price_per_month_for_20_servers))\n",
    "\n",
    "# How many days can I operate one server with $918?\n",
    "\n",
    "operation = 918 / price_per_day\n",
    "\n",
    "print('You can operate {} days'.format(operation))"
   ]
  },
  {
   "cell_type": "markdown",
   "metadata": {},
   "source": [
    "6. Create a program that asks the user how far they want to travel. If they want to travel less thanthree miles tell them to walk. If they want to travel more than three miles, but less than three\n",
    "hundred miles, tell them to drive. If they want to travel three hundred miles or more tell them to\n",
    "fly."
   ]
  },
  {
   "cell_type": "code",
   "execution_count": 24,
   "metadata": {},
   "outputs": [
    {
     "name": "stdout",
     "output_type": "stream",
     "text": [
      "You should walk\n"
     ]
    }
   ],
   "source": [
    "distance = 1\n",
    "for distance in range(1,5):\n",
    "if distance < 3:\n",
    "    print('You should walk')\n",
    "elif distance <300:\n",
    "    print('You should drive')\n",
    "else:\n",
    "    print('You should fly')"
   ]
  },
  {
   "cell_type": "code",
   "execution_count": null,
   "metadata": {},
   "outputs": [],
   "source": []
  }
 ],
 "metadata": {
  "kernelspec": {
   "display_name": "Python 3",
   "language": "python",
   "name": "python3"
  },
  "language_info": {
   "codemirror_mode": {
    "name": "ipython",
    "version": 3
   },
   "file_extension": ".py",
   "mimetype": "text/x-python",
   "name": "python",
   "nbconvert_exporter": "python",
   "pygments_lexer": "ipython3",
   "version": "3.7.3"
  }
 },
 "nbformat": 4,
 "nbformat_minor": 2
}
